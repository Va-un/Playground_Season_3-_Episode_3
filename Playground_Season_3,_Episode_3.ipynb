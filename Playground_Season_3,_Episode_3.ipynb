{
  "nbformat": 4,
  "nbformat_minor": 0,
  "metadata": {
    "colab": {
      "provenance": []
    },
    "kernelspec": {
      "name": "python3",
      "display_name": "Python 3"
    },
    "language_info": {
      "name": "python"
    }
  },
  "cells": [
    {
      "cell_type": "code",
      "source": [
        "!pip install opendatasets"
      ],
      "metadata": {
        "id": "jtL1q9na8URw"
      },
      "execution_count": null,
      "outputs": []
    },
    {
      "cell_type": "code",
      "execution_count": null,
      "metadata": {
        "colab": {
          "base_uri": "https://localhost:8080/"
        },
        "id": "h6wumpQR7soc",
        "outputId": "35b98361-d1c9-496e-dcdb-c4db0eef1d63"
      },
      "outputs": [
        {
          "output_type": "stream",
          "name": "stdout",
          "text": [
            "Skipping, found downloaded files in \"./playground-series-s3e3\" (use force=True to force download)\n"
          ]
        }
      ],
      "source": [
        "import pandas as pd\n",
        "import numpy as np\n",
        "import opendatasets as od\n",
        "od.download(\"https://www.kaggle.com/competitions/playground-series-s3e3/overview\")"
      ]
    },
    {
      "cell_type": "markdown",
      "source": [
        "# Importing Data"
      ],
      "metadata": {
        "id": "YLjIkX8RKM2n"
      }
    },
    {
      "cell_type": "code",
      "source": [
        "train_df = pd.read_csv(\"/content/playground-series-s3e3/train.csv\",index_col = \"id\")\n"
      ],
      "metadata": {
        "id": "Ed4U50ED8gcV",
        "colab": {
          "base_uri": "https://localhost:8080/"
        },
        "outputId": "6f8246a1-9e9b-47ec-ce94-9feed3507ff9"
      },
      "execution_count": null,
      "outputs": [
        {
          "output_type": "execute_result",
          "data": {
            "text/plain": [
              "(1677, 34)"
            ]
          },
          "metadata": {},
          "execution_count": 202
        }
      ]
    },
    {
      "cell_type": "markdown",
      "source": [
        "# # Data manipulation"
      ],
      "metadata": {
        "id": "Qwo1Yj_IKUzr"
      }
    },
    {
      "cell_type": "markdown",
      "source": [
        "Checking for numerical Data"
      ],
      "metadata": {
        "id": "APBN1mHeKabY"
      }
    },
    {
      "cell_type": "code",
      "source": [
        "import seaborn as sns\n",
        "import matplotlib.pyplot as plt\n",
        "cor =train_df.corr()\n",
        "plt.subplots(figsize=(20,15))\n",
        "sns.heatmap(cor,annot = True)"
      ],
      "metadata": {
        "id": "pI1GpY4IAjBg"
      },
      "execution_count": null,
      "outputs": []
    },
    {
      "cell_type": "markdown",
      "source": [
        "The Columns-\n",
        "'Age','Education','EnvironmentSatisfaction','JobInvolvement', 'JobLevel','JobSatisfaction','MonthlyIncome','RelationshipSatisfaction', 'StockOptionLevel','TotalWorkingYears','YearsAtCompany', 'YearsInCurrentRole','YearsWithCurrManager'\n",
        "\n",
        "Have a high correlation so we will use them to predict the data.\n"
      ],
      "metadata": {
        "id": "CyEnupZQGfc2"
      }
    },
    {
      "cell_type": "code",
      "source": [
        "input_col = ['Age','Education','EnvironmentSatisfaction','JobInvolvement', 'JobLevel','JobSatisfaction','MonthlyIncome','RelationshipSatisfaction', 'StockOptionLevel','TotalWorkingYears','YearsAtCompany', 'YearsInCurrentRole','YearsWithCurrManager']"
      ],
      "metadata": {
        "id": "IvqBRCyaF6OR"
      },
      "execution_count": null,
      "outputs": []
    },
    {
      "cell_type": "markdown",
      "source": [
        "Checting for categorical data"
      ],
      "metadata": {
        "id": "LFhoUQFvKdvC"
      }
    },
    {
      "cell_type": "code",
      "source": [
        "C_data =train_df.select_dtypes(include='object').columns.tolist()"
      ],
      "metadata": {
        "id": "1cerV4m8Kxp7"
      },
      "execution_count": null,
      "outputs": []
    },
    {
      "cell_type": "code",
      "source": [
        "from sklearn import preprocessing\n",
        "label_encoder = preprocessing.LabelEncoder()\n",
        "for i in C_data:\n",
        "  train_df[i]= label_encoder.fit_transform(train_df[i])\n"
      ],
      "metadata": {
        "id": "EmU4D5D0Hm7_"
      },
      "execution_count": null,
      "outputs": []
    },
    {
      "cell_type": "code",
      "source": [
        "train_df.info()"
      ],
      "metadata": {
        "id": "vQDBB7WWG38o"
      },
      "execution_count": null,
      "outputs": []
    },
    {
      "cell_type": "markdown",
      "source": [
        "We can now see that all the values have been converted to numberic value"
      ],
      "metadata": {
        "id": "_BtU8ln1Ljip"
      }
    },
    {
      "cell_type": "markdown",
      "source": [
        "# Visualualising"
      ],
      "metadata": {
        "id": "6Opc3hO-L6fc"
      }
    },
    {
      "cell_type": "code",
      "source": [
        "import plotly.express as px\n",
        "\n",
        "px.bar(train_df,'BusinessTravel','Attrition')"
      ],
      "metadata": {
        "id": "7vX2ArKJLp-Z"
      },
      "execution_count": null,
      "outputs": []
    },
    {
      "cell_type": "code",
      "source": [
        "px.bar(train_df,'Gender','Attrition')"
      ],
      "metadata": {
        "id": "cs4ryLUXPhpE"
      },
      "execution_count": null,
      "outputs": []
    },
    {
      "cell_type": "code",
      "source": [
        "px.bar(train_df,'JobRole','Attrition')"
      ],
      "metadata": {
        "id": "iCRX0evJPhi_"
      },
      "execution_count": null,
      "outputs": []
    },
    {
      "cell_type": "code",
      "source": [
        "px.bar(train_df,'MaritalStatus','Attrition')"
      ],
      "metadata": {
        "id": "KnHvf_udPhf9"
      },
      "execution_count": null,
      "outputs": []
    },
    {
      "cell_type": "code",
      "source": [
        "px.bar(train_df,'Over18','Attrition')"
      ],
      "metadata": {
        "id": "Sp_7NjLKPhdB"
      },
      "execution_count": null,
      "outputs": []
    },
    {
      "cell_type": "code",
      "source": [
        "px.bar(train_df,'OverTime','Attrition')"
      ],
      "metadata": {
        "id": "VNggGquuMDbH"
      },
      "execution_count": null,
      "outputs": []
    },
    {
      "cell_type": "markdown",
      "source": [
        "For categorical columns ['OverTime','MaritalStatus','JobRole','Gender','BusinessTravel'] we can see  are important"
      ],
      "metadata": {
        "id": "tLkjd-QBQEzg"
      }
    },
    {
      "cell_type": "code",
      "source": [
        "C_cols =['OverTime','MaritalStatus','JobRole','Gender','BusinessTravel']"
      ],
      "metadata": {
        "id": "01y_c5jNP45I"
      },
      "execution_count": null,
      "outputs": []
    },
    {
      "cell_type": "markdown",
      "source": [
        "Now we got the numerical col & categorical colums now let us train them"
      ],
      "metadata": {
        "id": "uO3GdoyOQmcw"
      }
    },
    {
      "cell_type": "code",
      "source": [
        "Train = train_df[input_col + C_cols]\n",
        "Test = train_df['Attrition']"
      ],
      "metadata": {
        "id": "2Fr6a393QlMF"
      },
      "execution_count": null,
      "outputs": []
    },
    {
      "cell_type": "markdown",
      "source": [
        "# Training Model"
      ],
      "metadata": {
        "id": "h08qjKx5Q-Ok"
      }
    },
    {
      "cell_type": "code",
      "source": [
        "from sklearn.model_selection import train_test_split\n",
        "X_train, X_test,y_train, y_test = train_test_split(Train,Test , random_state=104,test_size=0.25, shuffle=True)"
      ],
      "metadata": {
        "id": "s2zeM2QoQ9Hu"
      },
      "execution_count": null,
      "outputs": []
    },
    {
      "cell_type": "markdown",
      "source": [
        "# Linear regression"
      ],
      "metadata": {
        "id": "RK1GCHPzTSuy"
      }
    },
    {
      "cell_type": "code",
      "source": [
        "from sklearn.linear_model import LinearRegression\n",
        "from sklearn.metrics import mean_squared_error\n",
        "LR = LinearRegression().fit(X_train, y_train)\n",
        "preX = LR.predict(X_train)\n",
        "preY = LR.predict(X_test)\n",
        "print(mean_squared_error(y_train, preX),\" \",mean_squared_error(y_test, preY))"
      ],
      "metadata": {
        "colab": {
          "base_uri": "https://localhost:8080/"
        },
        "id": "6jKJg2PYTV3y",
        "outputId": "08cc6b23-1bd9-489a-f9aa-5ec91d3d1e61"
      },
      "execution_count": null,
      "outputs": [
        {
          "output_type": "stream",
          "name": "stdout",
          "text": [
            "0.08811546583641058   0.09986387146069242\n"
          ]
        }
      ]
    },
    {
      "cell_type": "markdown",
      "source": [
        "# DecisionTreeRegressor"
      ],
      "metadata": {
        "id": "ECTzoNGkVfVx"
      }
    },
    {
      "cell_type": "code",
      "source": [
        "from sklearn.tree import DecisionTreeRegressor\n",
        "\n",
        "DTR = DecisionTreeRegressor(random_state=42,max_leaf_nodes= 4,max_depth =3,max_features=16,).fit(X_train, y_train)\n",
        "\n",
        "preX = DTR.predict(X_train)\n",
        "preY = DTR.predict(X_test)\n",
        "print(mean_squared_error(y_train, preX),\" \",mean_squared_error(y_test, preY))"
      ],
      "metadata": {
        "colab": {
          "base_uri": "https://localhost:8080/"
        },
        "id": "q-UT7ByJVP7E",
        "outputId": "26a1f220-92f4-4269-dcab-87d5019cec64"
      },
      "execution_count": null,
      "outputs": [
        {
          "output_type": "stream",
          "name": "stdout",
          "text": [
            "0.09087558611137345   0.09382993829763928\n"
          ]
        }
      ]
    },
    {
      "cell_type": "markdown",
      "source": [
        "# RandomForestRegressor"
      ],
      "metadata": {
        "id": "K5X_W3DqVtST"
      }
    },
    {
      "cell_type": "code",
      "source": [
        "from sklearn.ensemble import RandomForestRegressor\n",
        "  \n",
        "\n",
        "RFT = RandomForestRegressor( random_state = 42, n_estimators=350,max_depth= 6,min_samples_split=20,max_features=8,max_leaf_nodes=22).fit(X_train, y_train)\n",
        "preX = RFT.predict(X_train)\n",
        "preY = RFT.predict(X_test)\n",
        "print(mean_squared_error(y_train, preX),\" \",mean_squared_error(y_test, preY))"
      ],
      "metadata": {
        "colab": {
          "base_uri": "https://localhost:8080/"
        },
        "id": "5Yqq7owxVtAN",
        "outputId": "c47ee982-0441-4ca3-94a5-326e225bdf34"
      },
      "execution_count": null,
      "outputs": [
        {
          "output_type": "stream",
          "name": "stdout",
          "text": [
            "0.06562061550032892   0.08851652499556996\n"
          ]
        }
      ]
    },
    {
      "cell_type": "markdown",
      "source": [
        "# XGBRegressor"
      ],
      "metadata": {
        "id": "c7NNLbJRWHiL"
      }
    },
    {
      "cell_type": "code",
      "source": [
        "from xgboost import XGBRegressor\n",
        "XGB = XGBRegressor(random_state=42, n_jobs=-1).fit(X_train, y_train)\n",
        "preX = RFT.predict(X_train)\n",
        "preY = RFT.predict(X_test)\n",
        "print(mean_squared_error(y_train, preX),\" \",mean_squared_error(y_test, preY))"
      ],
      "metadata": {
        "colab": {
          "base_uri": "https://localhost:8080/"
        },
        "id": "S3Fdk_WQWHvQ",
        "outputId": "eb1b6e96-a4d7-4fa2-ea31-c5390a234964"
      },
      "execution_count": null,
      "outputs": [
        {
          "output_type": "stream",
          "name": "stdout",
          "text": [
            "[11:33:17] WARNING: /workspace/src/objective/regression_obj.cu:152: reg:linear is now deprecated in favor of reg:squarederror.\n",
            "0.01245719968178202   0.0943242857142857\n"
          ]
        }
      ]
    },
    {
      "cell_type": "markdown",
      "source": [
        "# Parameter Tuning"
      ],
      "metadata": {
        "id": "ZfQdQXsAWgtK"
      }
    },
    {
      "cell_type": "markdown",
      "source": [
        "parameter tuner help change the model type and change the values and try to get  best value"
      ],
      "metadata": {
        "id": "tQ_2wx6DiZFs"
      }
    },
    {
      "cell_type": "code",
      "source": [
        "T_v = []\n",
        "V_v = []\n",
        "x=0\n",
        "for i in range(2,30,2):\n",
        "    mod = XGBRegressor( random_state = 42, n_estimators=40,max_depth = i).fit(X_train, y_train)\n",
        "    preX = mod.predict(X_train)\n",
        "    preY = mod.predict(X_test)\n",
        "    print(mean_squared_error(y_train, preX),\" \",mean_squared_error(y_test, preY),i,x)\n",
        "    T_v.append(mean_squared_error(y_train, preX))\n",
        "    V_v.append(mean_squared_error(y_test, preY))\n",
        "    x=x+1"
      ],
      "metadata": {
        "colab": {
          "base_uri": "https://localhost:8080/"
        },
        "id": "ubbU8UcFWj6E",
        "outputId": "dba6a639-6e79-44b5-f4de-a07f1beb1fa3"
      },
      "execution_count": null,
      "outputs": [
        {
          "output_type": "stream",
          "name": "stdout",
          "text": [
            "[12:35:13] WARNING: /workspace/src/objective/regression_obj.cu:152: reg:linear is now deprecated in favor of reg:squarederror.\n",
            "0.07722730911824977   0.09064874179661375 2 0\n",
            "[12:35:13] WARNING: /workspace/src/objective/regression_obj.cu:152: reg:linear is now deprecated in favor of reg:squarederror.\n",
            "0.05026902148039129   0.08705607842989564 4 1\n",
            "[12:35:13] WARNING: /workspace/src/objective/regression_obj.cu:152: reg:linear is now deprecated in favor of reg:squarederror.\n",
            "0.02077541510057447   0.0942107132199863 6 2\n",
            "[12:35:13] WARNING: /workspace/src/objective/regression_obj.cu:152: reg:linear is now deprecated in favor of reg:squarederror.\n",
            "0.00690651339621614   0.10690822634010255 8 3\n",
            "[12:35:13] WARNING: /workspace/src/objective/regression_obj.cu:152: reg:linear is now deprecated in favor of reg:squarederror.\n",
            "0.0017933380044674234   0.11511934747267903 10 4\n",
            "[12:35:13] WARNING: /workspace/src/objective/regression_obj.cu:152: reg:linear is now deprecated in favor of reg:squarederror.\n",
            "0.0007045535183655673   0.12580998379239935 12 5\n",
            "[12:35:14] WARNING: /workspace/src/objective/regression_obj.cu:152: reg:linear is now deprecated in favor of reg:squarederror.\n",
            "0.0005002440122693666   0.12603998534638405 14 6\n",
            "[12:35:14] WARNING: /workspace/src/objective/regression_obj.cu:152: reg:linear is now deprecated in favor of reg:squarederror.\n",
            "0.0003886980535154092   0.12622138108624922 16 7\n",
            "[12:35:14] WARNING: /workspace/src/objective/regression_obj.cu:152: reg:linear is now deprecated in favor of reg:squarederror.\n",
            "0.0003617128130686528   0.127377948486734 18 8\n",
            "[12:35:14] WARNING: /workspace/src/objective/regression_obj.cu:152: reg:linear is now deprecated in favor of reg:squarederror.\n",
            "0.0003566909527737529   0.12682452033031807 20 9\n",
            "[12:35:15] WARNING: /workspace/src/objective/regression_obj.cu:152: reg:linear is now deprecated in favor of reg:squarederror.\n",
            "0.00035511935936806464   0.12705353806603598 22 10\n",
            "[12:35:15] WARNING: /workspace/src/objective/regression_obj.cu:152: reg:linear is now deprecated in favor of reg:squarederror.\n",
            "0.00035510804814884415   0.12705267543375193 24 11\n",
            "[12:35:15] WARNING: /workspace/src/objective/regression_obj.cu:152: reg:linear is now deprecated in favor of reg:squarederror.\n",
            "0.00035510804814884415   0.12705267543375193 26 12\n",
            "[12:35:15] WARNING: /workspace/src/objective/regression_obj.cu:152: reg:linear is now deprecated in favor of reg:squarederror.\n",
            "0.00035510804814884415   0.12705267543375193 28 13\n"
          ]
        }
      ]
    },
    {
      "cell_type": "markdown",
      "source": [
        "00.0898180531874654"
      ],
      "metadata": {
        "id": "qxNh-vfvbRrj"
      }
    },
    {
      "cell_type": "code",
      "source": [
        "import plotly.express as px\n",
        "px.line(V_v)"
      ],
      "metadata": {
        "colab": {
          "base_uri": "https://localhost:8080/",
          "height": 542
        },
        "id": "D8JLIvhNYOdU",
        "outputId": "f67fdf50-ecf8-4b9e-ae0f-408d98966edc"
      },
      "execution_count": null,
      "outputs": [
        {
          "output_type": "display_data",
          "data": {
            "text/html": [
              "<html>\n",
              "<head><meta charset=\"utf-8\" /></head>\n",
              "<body>\n",
              "    <div>            <script src=\"https://cdnjs.cloudflare.com/ajax/libs/mathjax/2.7.5/MathJax.js?config=TeX-AMS-MML_SVG\"></script><script type=\"text/javascript\">if (window.MathJax) {MathJax.Hub.Config({SVG: {font: \"STIX-Web\"}});}</script>                <script type=\"text/javascript\">window.PlotlyConfig = {MathJaxConfig: 'local'};</script>\n",
              "        <script src=\"https://cdn.plot.ly/plotly-2.8.3.min.js\"></script>                <div id=\"09582d90-6563-48d4-b329-2bd3b2a5c923\" class=\"plotly-graph-div\" style=\"height:525px; width:100%;\"></div>            <script type=\"text/javascript\">                                    window.PLOTLYENV=window.PLOTLYENV || {};                                    if (document.getElementById(\"09582d90-6563-48d4-b329-2bd3b2a5c923\")) {                    Plotly.newPlot(                        \"09582d90-6563-48d4-b329-2bd3b2a5c923\",                        [{\"hovertemplate\":\"variable=0<br>index=%{x}<br>value=%{y}<extra></extra>\",\"legendgroup\":\"0\",\"line\":{\"color\":\"#636efa\",\"dash\":\"solid\"},\"marker\":{\"symbol\":\"circle\"},\"mode\":\"lines\",\"name\":\"0\",\"orientation\":\"v\",\"showlegend\":true,\"x\":[0,1,2,3,4,5,6,7,8],\"xaxis\":\"x\",\"y\":[0.1132950090536186,0.09416989668968406,0.0916118983218664,0.09000239560610028,0.09009977370108899,0.08982877808841144,0.09055379592327284,0.09009728747881042,0.09048237963048407],\"yaxis\":\"y\",\"type\":\"scatter\"}],                        {\"template\":{\"data\":{\"bar\":[{\"error_x\":{\"color\":\"#2a3f5f\"},\"error_y\":{\"color\":\"#2a3f5f\"},\"marker\":{\"line\":{\"color\":\"#E5ECF6\",\"width\":0.5},\"pattern\":{\"fillmode\":\"overlay\",\"size\":10,\"solidity\":0.2}},\"type\":\"bar\"}],\"barpolar\":[{\"marker\":{\"line\":{\"color\":\"#E5ECF6\",\"width\":0.5},\"pattern\":{\"fillmode\":\"overlay\",\"size\":10,\"solidity\":0.2}},\"type\":\"barpolar\"}],\"carpet\":[{\"aaxis\":{\"endlinecolor\":\"#2a3f5f\",\"gridcolor\":\"white\",\"linecolor\":\"white\",\"minorgridcolor\":\"white\",\"startlinecolor\":\"#2a3f5f\"},\"baxis\":{\"endlinecolor\":\"#2a3f5f\",\"gridcolor\":\"white\",\"linecolor\":\"white\",\"minorgridcolor\":\"white\",\"startlinecolor\":\"#2a3f5f\"},\"type\":\"carpet\"}],\"choropleth\":[{\"colorbar\":{\"outlinewidth\":0,\"ticks\":\"\"},\"type\":\"choropleth\"}],\"contour\":[{\"colorbar\":{\"outlinewidth\":0,\"ticks\":\"\"},\"colorscale\":[[0.0,\"#0d0887\"],[0.1111111111111111,\"#46039f\"],[0.2222222222222222,\"#7201a8\"],[0.3333333333333333,\"#9c179e\"],[0.4444444444444444,\"#bd3786\"],[0.5555555555555556,\"#d8576b\"],[0.6666666666666666,\"#ed7953\"],[0.7777777777777778,\"#fb9f3a\"],[0.8888888888888888,\"#fdca26\"],[1.0,\"#f0f921\"]],\"type\":\"contour\"}],\"contourcarpet\":[{\"colorbar\":{\"outlinewidth\":0,\"ticks\":\"\"},\"type\":\"contourcarpet\"}],\"heatmap\":[{\"colorbar\":{\"outlinewidth\":0,\"ticks\":\"\"},\"colorscale\":[[0.0,\"#0d0887\"],[0.1111111111111111,\"#46039f\"],[0.2222222222222222,\"#7201a8\"],[0.3333333333333333,\"#9c179e\"],[0.4444444444444444,\"#bd3786\"],[0.5555555555555556,\"#d8576b\"],[0.6666666666666666,\"#ed7953\"],[0.7777777777777778,\"#fb9f3a\"],[0.8888888888888888,\"#fdca26\"],[1.0,\"#f0f921\"]],\"type\":\"heatmap\"}],\"heatmapgl\":[{\"colorbar\":{\"outlinewidth\":0,\"ticks\":\"\"},\"colorscale\":[[0.0,\"#0d0887\"],[0.1111111111111111,\"#46039f\"],[0.2222222222222222,\"#7201a8\"],[0.3333333333333333,\"#9c179e\"],[0.4444444444444444,\"#bd3786\"],[0.5555555555555556,\"#d8576b\"],[0.6666666666666666,\"#ed7953\"],[0.7777777777777778,\"#fb9f3a\"],[0.8888888888888888,\"#fdca26\"],[1.0,\"#f0f921\"]],\"type\":\"heatmapgl\"}],\"histogram\":[{\"marker\":{\"pattern\":{\"fillmode\":\"overlay\",\"size\":10,\"solidity\":0.2}},\"type\":\"histogram\"}],\"histogram2d\":[{\"colorbar\":{\"outlinewidth\":0,\"ticks\":\"\"},\"colorscale\":[[0.0,\"#0d0887\"],[0.1111111111111111,\"#46039f\"],[0.2222222222222222,\"#7201a8\"],[0.3333333333333333,\"#9c179e\"],[0.4444444444444444,\"#bd3786\"],[0.5555555555555556,\"#d8576b\"],[0.6666666666666666,\"#ed7953\"],[0.7777777777777778,\"#fb9f3a\"],[0.8888888888888888,\"#fdca26\"],[1.0,\"#f0f921\"]],\"type\":\"histogram2d\"}],\"histogram2dcontour\":[{\"colorbar\":{\"outlinewidth\":0,\"ticks\":\"\"},\"colorscale\":[[0.0,\"#0d0887\"],[0.1111111111111111,\"#46039f\"],[0.2222222222222222,\"#7201a8\"],[0.3333333333333333,\"#9c179e\"],[0.4444444444444444,\"#bd3786\"],[0.5555555555555556,\"#d8576b\"],[0.6666666666666666,\"#ed7953\"],[0.7777777777777778,\"#fb9f3a\"],[0.8888888888888888,\"#fdca26\"],[1.0,\"#f0f921\"]],\"type\":\"histogram2dcontour\"}],\"mesh3d\":[{\"colorbar\":{\"outlinewidth\":0,\"ticks\":\"\"},\"type\":\"mesh3d\"}],\"parcoords\":[{\"line\":{\"colorbar\":{\"outlinewidth\":0,\"ticks\":\"\"}},\"type\":\"parcoords\"}],\"pie\":[{\"automargin\":true,\"type\":\"pie\"}],\"scatter\":[{\"marker\":{\"colorbar\":{\"outlinewidth\":0,\"ticks\":\"\"}},\"type\":\"scatter\"}],\"scatter3d\":[{\"line\":{\"colorbar\":{\"outlinewidth\":0,\"ticks\":\"\"}},\"marker\":{\"colorbar\":{\"outlinewidth\":0,\"ticks\":\"\"}},\"type\":\"scatter3d\"}],\"scattercarpet\":[{\"marker\":{\"colorbar\":{\"outlinewidth\":0,\"ticks\":\"\"}},\"type\":\"scattercarpet\"}],\"scattergeo\":[{\"marker\":{\"colorbar\":{\"outlinewidth\":0,\"ticks\":\"\"}},\"type\":\"scattergeo\"}],\"scattergl\":[{\"marker\":{\"colorbar\":{\"outlinewidth\":0,\"ticks\":\"\"}},\"type\":\"scattergl\"}],\"scattermapbox\":[{\"marker\":{\"colorbar\":{\"outlinewidth\":0,\"ticks\":\"\"}},\"type\":\"scattermapbox\"}],\"scatterpolar\":[{\"marker\":{\"colorbar\":{\"outlinewidth\":0,\"ticks\":\"\"}},\"type\":\"scatterpolar\"}],\"scatterpolargl\":[{\"marker\":{\"colorbar\":{\"outlinewidth\":0,\"ticks\":\"\"}},\"type\":\"scatterpolargl\"}],\"scatterternary\":[{\"marker\":{\"colorbar\":{\"outlinewidth\":0,\"ticks\":\"\"}},\"type\":\"scatterternary\"}],\"surface\":[{\"colorbar\":{\"outlinewidth\":0,\"ticks\":\"\"},\"colorscale\":[[0.0,\"#0d0887\"],[0.1111111111111111,\"#46039f\"],[0.2222222222222222,\"#7201a8\"],[0.3333333333333333,\"#9c179e\"],[0.4444444444444444,\"#bd3786\"],[0.5555555555555556,\"#d8576b\"],[0.6666666666666666,\"#ed7953\"],[0.7777777777777778,\"#fb9f3a\"],[0.8888888888888888,\"#fdca26\"],[1.0,\"#f0f921\"]],\"type\":\"surface\"}],\"table\":[{\"cells\":{\"fill\":{\"color\":\"#EBF0F8\"},\"line\":{\"color\":\"white\"}},\"header\":{\"fill\":{\"color\":\"#C8D4E3\"},\"line\":{\"color\":\"white\"}},\"type\":\"table\"}]},\"layout\":{\"annotationdefaults\":{\"arrowcolor\":\"#2a3f5f\",\"arrowhead\":0,\"arrowwidth\":1},\"autotypenumbers\":\"strict\",\"coloraxis\":{\"colorbar\":{\"outlinewidth\":0,\"ticks\":\"\"}},\"colorscale\":{\"diverging\":[[0,\"#8e0152\"],[0.1,\"#c51b7d\"],[0.2,\"#de77ae\"],[0.3,\"#f1b6da\"],[0.4,\"#fde0ef\"],[0.5,\"#f7f7f7\"],[0.6,\"#e6f5d0\"],[0.7,\"#b8e186\"],[0.8,\"#7fbc41\"],[0.9,\"#4d9221\"],[1,\"#276419\"]],\"sequential\":[[0.0,\"#0d0887\"],[0.1111111111111111,\"#46039f\"],[0.2222222222222222,\"#7201a8\"],[0.3333333333333333,\"#9c179e\"],[0.4444444444444444,\"#bd3786\"],[0.5555555555555556,\"#d8576b\"],[0.6666666666666666,\"#ed7953\"],[0.7777777777777778,\"#fb9f3a\"],[0.8888888888888888,\"#fdca26\"],[1.0,\"#f0f921\"]],\"sequentialminus\":[[0.0,\"#0d0887\"],[0.1111111111111111,\"#46039f\"],[0.2222222222222222,\"#7201a8\"],[0.3333333333333333,\"#9c179e\"],[0.4444444444444444,\"#bd3786\"],[0.5555555555555556,\"#d8576b\"],[0.6666666666666666,\"#ed7953\"],[0.7777777777777778,\"#fb9f3a\"],[0.8888888888888888,\"#fdca26\"],[1.0,\"#f0f921\"]]},\"colorway\":[\"#636efa\",\"#EF553B\",\"#00cc96\",\"#ab63fa\",\"#FFA15A\",\"#19d3f3\",\"#FF6692\",\"#B6E880\",\"#FF97FF\",\"#FECB52\"],\"font\":{\"color\":\"#2a3f5f\"},\"geo\":{\"bgcolor\":\"white\",\"lakecolor\":\"white\",\"landcolor\":\"#E5ECF6\",\"showlakes\":true,\"showland\":true,\"subunitcolor\":\"white\"},\"hoverlabel\":{\"align\":\"left\"},\"hovermode\":\"closest\",\"mapbox\":{\"style\":\"light\"},\"paper_bgcolor\":\"white\",\"plot_bgcolor\":\"#E5ECF6\",\"polar\":{\"angularaxis\":{\"gridcolor\":\"white\",\"linecolor\":\"white\",\"ticks\":\"\"},\"bgcolor\":\"#E5ECF6\",\"radialaxis\":{\"gridcolor\":\"white\",\"linecolor\":\"white\",\"ticks\":\"\"}},\"scene\":{\"xaxis\":{\"backgroundcolor\":\"#E5ECF6\",\"gridcolor\":\"white\",\"gridwidth\":2,\"linecolor\":\"white\",\"showbackground\":true,\"ticks\":\"\",\"zerolinecolor\":\"white\"},\"yaxis\":{\"backgroundcolor\":\"#E5ECF6\",\"gridcolor\":\"white\",\"gridwidth\":2,\"linecolor\":\"white\",\"showbackground\":true,\"ticks\":\"\",\"zerolinecolor\":\"white\"},\"zaxis\":{\"backgroundcolor\":\"#E5ECF6\",\"gridcolor\":\"white\",\"gridwidth\":2,\"linecolor\":\"white\",\"showbackground\":true,\"ticks\":\"\",\"zerolinecolor\":\"white\"}},\"shapedefaults\":{\"line\":{\"color\":\"#2a3f5f\"}},\"ternary\":{\"aaxis\":{\"gridcolor\":\"white\",\"linecolor\":\"white\",\"ticks\":\"\"},\"baxis\":{\"gridcolor\":\"white\",\"linecolor\":\"white\",\"ticks\":\"\"},\"bgcolor\":\"#E5ECF6\",\"caxis\":{\"gridcolor\":\"white\",\"linecolor\":\"white\",\"ticks\":\"\"}},\"title\":{\"x\":0.05},\"xaxis\":{\"automargin\":true,\"gridcolor\":\"white\",\"linecolor\":\"white\",\"ticks\":\"\",\"title\":{\"standoff\":15},\"zerolinecolor\":\"white\",\"zerolinewidth\":2},\"yaxis\":{\"automargin\":true,\"gridcolor\":\"white\",\"linecolor\":\"white\",\"ticks\":\"\",\"title\":{\"standoff\":15},\"zerolinecolor\":\"white\",\"zerolinewidth\":2}}},\"xaxis\":{\"anchor\":\"y\",\"domain\":[0.0,1.0],\"title\":{\"text\":\"index\"}},\"yaxis\":{\"anchor\":\"x\",\"domain\":[0.0,1.0],\"title\":{\"text\":\"value\"}},\"legend\":{\"title\":{\"text\":\"variable\"},\"tracegroupgap\":0},\"margin\":{\"t\":60}},                        {\"responsive\": true}                    ).then(function(){\n",
              "                            \n",
              "var gd = document.getElementById('09582d90-6563-48d4-b329-2bd3b2a5c923');\n",
              "var x = new MutationObserver(function (mutations, observer) {{\n",
              "        var display = window.getComputedStyle(gd).display;\n",
              "        if (!display || display === 'none') {{\n",
              "            console.log([gd, 'removed!']);\n",
              "            Plotly.purge(gd);\n",
              "            observer.disconnect();\n",
              "        }}\n",
              "}});\n",
              "\n",
              "// Listen for the removal of the full notebook cells\n",
              "var notebookContainer = gd.closest('#notebook-container');\n",
              "if (notebookContainer) {{\n",
              "    x.observe(notebookContainer, {childList: true});\n",
              "}}\n",
              "\n",
              "// Listen for the clearing of the current output cell\n",
              "var outputEl = gd.closest('.output');\n",
              "if (outputEl) {{\n",
              "    x.observe(outputEl, {childList: true});\n",
              "}}\n",
              "\n",
              "                        })                };                            </script>        </div>\n",
              "</body>\n",
              "</html>"
            ]
          },
          "metadata": {}
        }
      ]
    },
    {
      "cell_type": "markdown",
      "source": [
        "# Sub"
      ],
      "metadata": {
        "id": "rq3on3XEklSM"
      }
    },
    {
      "cell_type": "code",
      "source": [
        "Test_df = pd.read_csv(\"/content/playground-series-s3e3/test.csv\")"
      ],
      "metadata": {
        "id": "0FjfMTTGkrNu"
      },
      "execution_count": 217,
      "outputs": []
    },
    {
      "cell_type": "code",
      "source": [
        "input_col = ['Age','Education','EnvironmentSatisfaction','JobInvolvement', 'JobLevel','JobSatisfaction','MonthlyIncome','RelationshipSatisfaction', 'StockOptionLevel','TotalWorkingYears','YearsAtCompany', 'YearsInCurrentRole','YearsWithCurrManager']\n",
        "C_cols =['OverTime','MaritalStatus','JobRole','Gender','BusinessTravel']\n",
        "from sklearn import preprocessing\n",
        "label_encoder = preprocessing.LabelEncoder()\n",
        "for i in C_cols:\n",
        "  Test_df[i]= label_encoder.fit_transform(Test_df[i])\n",
        "Train = Test_df[input_col + C_cols]\n",
        "preX = RFT.predict(Train)\n",
        "preX.shape"
      ],
      "metadata": {
        "id": "BHaSzENik_LZ",
        "colab": {
          "base_uri": "https://localhost:8080/"
        },
        "outputId": "7876e554-5790-44d1-843c-b812e0a1cf0c"
      },
      "execution_count": 221,
      "outputs": [
        {
          "output_type": "execute_result",
          "data": {
            "text/plain": [
              "(1119,)"
            ]
          },
          "metadata": {},
          "execution_count": 221
        }
      ]
    },
    {
      "cell_type": "code",
      "source": [
        "sub = pd.read_csv(\"/content/playground-series-s3e3/sample_submission.csv\")\n",
        "sub['Attrition'] = preX\n",
        "pd.options.display.float_format = '{:,.3f}'.format\n",
        "sub.to_csv('submission.csv', index=False)\n",
        "from IPython.display import FileLink\n",
        "FileLink('submission.csv') # Doesn't work on Colab, use the file browser instead to download the file."
      ],
      "metadata": {
        "id": "vIcEbBMOloPh",
        "colab": {
          "base_uri": "https://localhost:8080/",
          "height": 34
        },
        "outputId": "249b6ecd-5e3f-45aa-ffb2-b79cde6fa78a"
      },
      "execution_count": 223,
      "outputs": [
        {
          "output_type": "execute_result",
          "data": {
            "text/plain": [
              "/content/submission.csv"
            ],
            "text/html": [
              "<a href='submission.csv' target='_blank'>submission.csv</a><br>"
            ]
          },
          "metadata": {},
          "execution_count": 223
        }
      ]
    },
    {
      "cell_type": "markdown",
      "source": [
        "refrences:\n",
        "1.https://jovian.com/learn/machine-learning-with-python-zero-to-gbms/lesson/gradient-boosting-with-xgboost\n",
        "2.https://scikit-learn.org/stable/supervised_learning.html\n"
      ],
      "metadata": {
        "id": "tMFpJct8m-Vj"
      }
    }
  ]
}